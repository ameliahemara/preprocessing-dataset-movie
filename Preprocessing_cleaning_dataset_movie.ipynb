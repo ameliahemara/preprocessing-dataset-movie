{
  "nbformat": 4,
  "nbformat_minor": 0,
  "metadata": {
    "colab": {
      "provenance": []
    },
    "kernelspec": {
      "name": "python3",
      "display_name": "Python 3"
    },
    "language_info": {
      "name": "python"
    }
  },
  "cells": [
    {
      "cell_type": "markdown",
      "source": [
        "Melakukan import library"
      ],
      "metadata": {
        "id": "tKa4JJN3oEZh"
      }
    },
    {
      "cell_type": "code",
      "execution_count": 2,
      "metadata": {
        "id": "XGnD6qPh0URq"
      },
      "outputs": [],
      "source": [
        "import pandas as pd"
      ]
    },
    {
      "cell_type": "markdown",
      "source": [
        "Muat dataset"
      ],
      "metadata": {
        "id": "N5QXxmmToH-H"
      }
    },
    {
      "cell_type": "code",
      "source": [
        "df = pd.read_csv('/content/movie_sample_dataset.csv')\n",
        "df.head()"
      ],
      "metadata": {
        "colab": {
          "base_uri": "https://localhost:8080/",
          "height": 486
        },
        "id": "9R2QHrL30aW_",
        "outputId": "6ab1e145-0541-460f-9ab8-98ace65a429f"
      },
      "execution_count": 3,
      "outputs": [
        {
          "output_type": "execute_result",
          "data": {
            "text/plain": [
              "    color      director_name  duration        gross  \\\n",
              "0   Color    Martin Scorsese       240  116866727.0   \n",
              "1   Color        Shane Black       195  408992272.0   \n",
              "2  color   Quentin Tarantino       187   54116191.0   \n",
              "3   Color   Kenneth Lonergan       186      46495.0   \n",
              "4   Color      Peter Jackson       186  258355354.0   \n",
              "\n",
              "                                 genres                          movie_title  \\\n",
              "0          Biography|Comedy|Crime|Drama              The Wolf of Wall Street   \n",
              "1               Action|Adventure|Sci-Fi                           Iron Man 3   \n",
              "2  Crime|Drama|Mystery|Thriller|Western                    The Hateful Eight   \n",
              "3                                 Drama                             Margaret   \n",
              "4                     Adventure|Fantasy  The Hobbit: The Desolation of Smaug   \n",
              "\n",
              "   title_year language country       budget  imdb_score  \\\n",
              "0        2013  English     USA  100000000.0         8.2   \n",
              "1        2013  English     USA  200000000.0         7.2   \n",
              "2        2015  English     USA   44000000.0         7.9   \n",
              "3        2011  English     usa   14000000.0         6.5   \n",
              "4        2013  English     USA  225000000.0         7.9   \n",
              "\n",
              "                                              actors  movie_facebook_likes  \n",
              "0  Leonardo DiCaprio,Matthew McConaughey,Jon Favreau                138000  \n",
              "1          Robert Downey Jr.,Jon Favreau,Don Cheadle                 95000  \n",
              "2          Craig Stark,Jennifer Jason Leigh,Zoë Bell                114000  \n",
              "3        Matt Damon,Kieran Culkin,John Gallagher Jr.                     0  \n",
              "4              Aidan Turner,Adam Brown,James Nesbitt                 83000  "
            ],
            "text/html": [
              "\n",
              "  <div id=\"df-98b77bb4-36c8-43d4-bb40-b0e1c7b030aa\" class=\"colab-df-container\">\n",
              "    <div>\n",
              "<style scoped>\n",
              "    .dataframe tbody tr th:only-of-type {\n",
              "        vertical-align: middle;\n",
              "    }\n",
              "\n",
              "    .dataframe tbody tr th {\n",
              "        vertical-align: top;\n",
              "    }\n",
              "\n",
              "    .dataframe thead th {\n",
              "        text-align: right;\n",
              "    }\n",
              "</style>\n",
              "<table border=\"1\" class=\"dataframe\">\n",
              "  <thead>\n",
              "    <tr style=\"text-align: right;\">\n",
              "      <th></th>\n",
              "      <th>color</th>\n",
              "      <th>director_name</th>\n",
              "      <th>duration</th>\n",
              "      <th>gross</th>\n",
              "      <th>genres</th>\n",
              "      <th>movie_title</th>\n",
              "      <th>title_year</th>\n",
              "      <th>language</th>\n",
              "      <th>country</th>\n",
              "      <th>budget</th>\n",
              "      <th>imdb_score</th>\n",
              "      <th>actors</th>\n",
              "      <th>movie_facebook_likes</th>\n",
              "    </tr>\n",
              "  </thead>\n",
              "  <tbody>\n",
              "    <tr>\n",
              "      <th>0</th>\n",
              "      <td>Color</td>\n",
              "      <td>Martin Scorsese</td>\n",
              "      <td>240</td>\n",
              "      <td>116866727.0</td>\n",
              "      <td>Biography|Comedy|Crime|Drama</td>\n",
              "      <td>The Wolf of Wall Street</td>\n",
              "      <td>2013</td>\n",
              "      <td>English</td>\n",
              "      <td>USA</td>\n",
              "      <td>100000000.0</td>\n",
              "      <td>8.2</td>\n",
              "      <td>Leonardo DiCaprio,Matthew McConaughey,Jon Favreau</td>\n",
              "      <td>138000</td>\n",
              "    </tr>\n",
              "    <tr>\n",
              "      <th>1</th>\n",
              "      <td>Color</td>\n",
              "      <td>Shane Black</td>\n",
              "      <td>195</td>\n",
              "      <td>408992272.0</td>\n",
              "      <td>Action|Adventure|Sci-Fi</td>\n",
              "      <td>Iron Man 3</td>\n",
              "      <td>2013</td>\n",
              "      <td>English</td>\n",
              "      <td>USA</td>\n",
              "      <td>200000000.0</td>\n",
              "      <td>7.2</td>\n",
              "      <td>Robert Downey Jr.,Jon Favreau,Don Cheadle</td>\n",
              "      <td>95000</td>\n",
              "    </tr>\n",
              "    <tr>\n",
              "      <th>2</th>\n",
              "      <td>color</td>\n",
              "      <td>Quentin Tarantino</td>\n",
              "      <td>187</td>\n",
              "      <td>54116191.0</td>\n",
              "      <td>Crime|Drama|Mystery|Thriller|Western</td>\n",
              "      <td>The Hateful Eight</td>\n",
              "      <td>2015</td>\n",
              "      <td>English</td>\n",
              "      <td>USA</td>\n",
              "      <td>44000000.0</td>\n",
              "      <td>7.9</td>\n",
              "      <td>Craig Stark,Jennifer Jason Leigh,Zoë Bell</td>\n",
              "      <td>114000</td>\n",
              "    </tr>\n",
              "    <tr>\n",
              "      <th>3</th>\n",
              "      <td>Color</td>\n",
              "      <td>Kenneth Lonergan</td>\n",
              "      <td>186</td>\n",
              "      <td>46495.0</td>\n",
              "      <td>Drama</td>\n",
              "      <td>Margaret</td>\n",
              "      <td>2011</td>\n",
              "      <td>English</td>\n",
              "      <td>usa</td>\n",
              "      <td>14000000.0</td>\n",
              "      <td>6.5</td>\n",
              "      <td>Matt Damon,Kieran Culkin,John Gallagher Jr.</td>\n",
              "      <td>0</td>\n",
              "    </tr>\n",
              "    <tr>\n",
              "      <th>4</th>\n",
              "      <td>Color</td>\n",
              "      <td>Peter Jackson</td>\n",
              "      <td>186</td>\n",
              "      <td>258355354.0</td>\n",
              "      <td>Adventure|Fantasy</td>\n",
              "      <td>The Hobbit: The Desolation of Smaug</td>\n",
              "      <td>2013</td>\n",
              "      <td>English</td>\n",
              "      <td>USA</td>\n",
              "      <td>225000000.0</td>\n",
              "      <td>7.9</td>\n",
              "      <td>Aidan Turner,Adam Brown,James Nesbitt</td>\n",
              "      <td>83000</td>\n",
              "    </tr>\n",
              "  </tbody>\n",
              "</table>\n",
              "</div>\n",
              "    <div class=\"colab-df-buttons\">\n",
              "\n",
              "  <div class=\"colab-df-container\">\n",
              "    <button class=\"colab-df-convert\" onclick=\"convertToInteractive('df-98b77bb4-36c8-43d4-bb40-b0e1c7b030aa')\"\n",
              "            title=\"Convert this dataframe to an interactive table.\"\n",
              "            style=\"display:none;\">\n",
              "\n",
              "  <svg xmlns=\"http://www.w3.org/2000/svg\" height=\"24px\" viewBox=\"0 -960 960 960\">\n",
              "    <path d=\"M120-120v-720h720v720H120Zm60-500h600v-160H180v160Zm220 220h160v-160H400v160Zm0 220h160v-160H400v160ZM180-400h160v-160H180v160Zm440 0h160v-160H620v160ZM180-180h160v-160H180v160Zm440 0h160v-160H620v160Z\"/>\n",
              "  </svg>\n",
              "    </button>\n",
              "\n",
              "  <style>\n",
              "    .colab-df-container {\n",
              "      display:flex;\n",
              "      gap: 12px;\n",
              "    }\n",
              "\n",
              "    .colab-df-convert {\n",
              "      background-color: #E8F0FE;\n",
              "      border: none;\n",
              "      border-radius: 50%;\n",
              "      cursor: pointer;\n",
              "      display: none;\n",
              "      fill: #1967D2;\n",
              "      height: 32px;\n",
              "      padding: 0 0 0 0;\n",
              "      width: 32px;\n",
              "    }\n",
              "\n",
              "    .colab-df-convert:hover {\n",
              "      background-color: #E2EBFA;\n",
              "      box-shadow: 0px 1px 2px rgba(60, 64, 67, 0.3), 0px 1px 3px 1px rgba(60, 64, 67, 0.15);\n",
              "      fill: #174EA6;\n",
              "    }\n",
              "\n",
              "    .colab-df-buttons div {\n",
              "      margin-bottom: 4px;\n",
              "    }\n",
              "\n",
              "    [theme=dark] .colab-df-convert {\n",
              "      background-color: #3B4455;\n",
              "      fill: #D2E3FC;\n",
              "    }\n",
              "\n",
              "    [theme=dark] .colab-df-convert:hover {\n",
              "      background-color: #434B5C;\n",
              "      box-shadow: 0px 1px 3px 1px rgba(0, 0, 0, 0.15);\n",
              "      filter: drop-shadow(0px 1px 2px rgba(0, 0, 0, 0.3));\n",
              "      fill: #FFFFFF;\n",
              "    }\n",
              "  </style>\n",
              "\n",
              "    <script>\n",
              "      const buttonEl =\n",
              "        document.querySelector('#df-98b77bb4-36c8-43d4-bb40-b0e1c7b030aa button.colab-df-convert');\n",
              "      buttonEl.style.display =\n",
              "        google.colab.kernel.accessAllowed ? 'block' : 'none';\n",
              "\n",
              "      async function convertToInteractive(key) {\n",
              "        const element = document.querySelector('#df-98b77bb4-36c8-43d4-bb40-b0e1c7b030aa');\n",
              "        const dataTable =\n",
              "          await google.colab.kernel.invokeFunction('convertToInteractive',\n",
              "                                                    [key], {});\n",
              "        if (!dataTable) return;\n",
              "\n",
              "        const docLinkHtml = 'Like what you see? Visit the ' +\n",
              "          '<a target=\"_blank\" href=https://colab.research.google.com/notebooks/data_table.ipynb>data table notebook</a>'\n",
              "          + ' to learn more about interactive tables.';\n",
              "        element.innerHTML = '';\n",
              "        dataTable['output_type'] = 'display_data';\n",
              "        await google.colab.output.renderOutput(dataTable, element);\n",
              "        const docLink = document.createElement('div');\n",
              "        docLink.innerHTML = docLinkHtml;\n",
              "        element.appendChild(docLink);\n",
              "      }\n",
              "    </script>\n",
              "  </div>\n",
              "\n",
              "\n",
              "    <div id=\"df-4336dc43-b897-4fff-8f2f-27d75a46e468\">\n",
              "      <button class=\"colab-df-quickchart\" onclick=\"quickchart('df-4336dc43-b897-4fff-8f2f-27d75a46e468')\"\n",
              "                title=\"Suggest charts\"\n",
              "                style=\"display:none;\">\n",
              "\n",
              "<svg xmlns=\"http://www.w3.org/2000/svg\" height=\"24px\"viewBox=\"0 0 24 24\"\n",
              "     width=\"24px\">\n",
              "    <g>\n",
              "        <path d=\"M19 3H5c-1.1 0-2 .9-2 2v14c0 1.1.9 2 2 2h14c1.1 0 2-.9 2-2V5c0-1.1-.9-2-2-2zM9 17H7v-7h2v7zm4 0h-2V7h2v10zm4 0h-2v-4h2v4z\"/>\n",
              "    </g>\n",
              "</svg>\n",
              "      </button>\n",
              "\n",
              "<style>\n",
              "  .colab-df-quickchart {\n",
              "      --bg-color: #E8F0FE;\n",
              "      --fill-color: #1967D2;\n",
              "      --hover-bg-color: #E2EBFA;\n",
              "      --hover-fill-color: #174EA6;\n",
              "      --disabled-fill-color: #AAA;\n",
              "      --disabled-bg-color: #DDD;\n",
              "  }\n",
              "\n",
              "  [theme=dark] .colab-df-quickchart {\n",
              "      --bg-color: #3B4455;\n",
              "      --fill-color: #D2E3FC;\n",
              "      --hover-bg-color: #434B5C;\n",
              "      --hover-fill-color: #FFFFFF;\n",
              "      --disabled-bg-color: #3B4455;\n",
              "      --disabled-fill-color: #666;\n",
              "  }\n",
              "\n",
              "  .colab-df-quickchart {\n",
              "    background-color: var(--bg-color);\n",
              "    border: none;\n",
              "    border-radius: 50%;\n",
              "    cursor: pointer;\n",
              "    display: none;\n",
              "    fill: var(--fill-color);\n",
              "    height: 32px;\n",
              "    padding: 0;\n",
              "    width: 32px;\n",
              "  }\n",
              "\n",
              "  .colab-df-quickchart:hover {\n",
              "    background-color: var(--hover-bg-color);\n",
              "    box-shadow: 0 1px 2px rgba(60, 64, 67, 0.3), 0 1px 3px 1px rgba(60, 64, 67, 0.15);\n",
              "    fill: var(--button-hover-fill-color);\n",
              "  }\n",
              "\n",
              "  .colab-df-quickchart-complete:disabled,\n",
              "  .colab-df-quickchart-complete:disabled:hover {\n",
              "    background-color: var(--disabled-bg-color);\n",
              "    fill: var(--disabled-fill-color);\n",
              "    box-shadow: none;\n",
              "  }\n",
              "\n",
              "  .colab-df-spinner {\n",
              "    border: 2px solid var(--fill-color);\n",
              "    border-color: transparent;\n",
              "    border-bottom-color: var(--fill-color);\n",
              "    animation:\n",
              "      spin 1s steps(1) infinite;\n",
              "  }\n",
              "\n",
              "  @keyframes spin {\n",
              "    0% {\n",
              "      border-color: transparent;\n",
              "      border-bottom-color: var(--fill-color);\n",
              "      border-left-color: var(--fill-color);\n",
              "    }\n",
              "    20% {\n",
              "      border-color: transparent;\n",
              "      border-left-color: var(--fill-color);\n",
              "      border-top-color: var(--fill-color);\n",
              "    }\n",
              "    30% {\n",
              "      border-color: transparent;\n",
              "      border-left-color: var(--fill-color);\n",
              "      border-top-color: var(--fill-color);\n",
              "      border-right-color: var(--fill-color);\n",
              "    }\n",
              "    40% {\n",
              "      border-color: transparent;\n",
              "      border-right-color: var(--fill-color);\n",
              "      border-top-color: var(--fill-color);\n",
              "    }\n",
              "    60% {\n",
              "      border-color: transparent;\n",
              "      border-right-color: var(--fill-color);\n",
              "    }\n",
              "    80% {\n",
              "      border-color: transparent;\n",
              "      border-right-color: var(--fill-color);\n",
              "      border-bottom-color: var(--fill-color);\n",
              "    }\n",
              "    90% {\n",
              "      border-color: transparent;\n",
              "      border-bottom-color: var(--fill-color);\n",
              "    }\n",
              "  }\n",
              "</style>\n",
              "\n",
              "      <script>\n",
              "        async function quickchart(key) {\n",
              "          const quickchartButtonEl =\n",
              "            document.querySelector('#' + key + ' button');\n",
              "          quickchartButtonEl.disabled = true;  // To prevent multiple clicks.\n",
              "          quickchartButtonEl.classList.add('colab-df-spinner');\n",
              "          try {\n",
              "            const charts = await google.colab.kernel.invokeFunction(\n",
              "                'suggestCharts', [key], {});\n",
              "          } catch (error) {\n",
              "            console.error('Error during call to suggestCharts:', error);\n",
              "          }\n",
              "          quickchartButtonEl.classList.remove('colab-df-spinner');\n",
              "          quickchartButtonEl.classList.add('colab-df-quickchart-complete');\n",
              "        }\n",
              "        (() => {\n",
              "          let quickchartButtonEl =\n",
              "            document.querySelector('#df-4336dc43-b897-4fff-8f2f-27d75a46e468 button');\n",
              "          quickchartButtonEl.style.display =\n",
              "            google.colab.kernel.accessAllowed ? 'block' : 'none';\n",
              "        })();\n",
              "      </script>\n",
              "    </div>\n",
              "\n",
              "    </div>\n",
              "  </div>\n"
            ],
            "application/vnd.google.colaboratory.intrinsic+json": {
              "type": "dataframe",
              "variable_name": "df",
              "summary": "{\n  \"name\": \"df\",\n  \"rows\": 99,\n  \"fields\": [\n    {\n      \"column\": \"color\",\n      \"properties\": {\n        \"dtype\": \"category\",\n        \"num_unique_values\": 3,\n        \"samples\": [\n          \"Color\",\n          \"color \",\n          \" Black and White\"\n        ],\n        \"semantic_type\": \"\",\n        \"description\": \"\"\n      }\n    },\n    {\n      \"column\": \"director_name\",\n      \"properties\": {\n        \"dtype\": \"string\",\n        \"num_unique_values\": 63,\n        \"samples\": [\n          \"David Ayer\",\n          \"Tony Gilroy\",\n          \"Martin Scorsese\"\n        ],\n        \"semantic_type\": \"\",\n        \"description\": \"\"\n      }\n    },\n    {\n      \"column\": \"duration\",\n      \"properties\": {\n        \"dtype\": \"number\",\n        \"std\": 72,\n        \"min\": -50,\n        \"max\": 650,\n        \"num_unique_values\": 39,\n        \"samples\": [\n          138,\n          135,\n          183\n        ],\n        \"semantic_type\": \"\",\n        \"description\": \"\"\n      }\n    },\n    {\n      \"column\": \"gross\",\n      \"properties\": {\n        \"dtype\": \"number\",\n        \"std\": 139950256.81859657,\n        \"min\": 41229.0,\n        \"max\": 623279547.0,\n        \"num_unique_values\": 85,\n        \"samples\": [\n          52474616.0,\n          116866727.0,\n          132550960.0\n        ],\n        \"semantic_type\": \"\",\n        \"description\": \"\"\n      }\n    },\n    {\n      \"column\": \"genres\",\n      \"properties\": {\n        \"dtype\": \"string\",\n        \"num_unique_values\": 56,\n        \"samples\": [\n          \"Biography|Comedy|Crime|Drama\",\n          \"Drama|Romance\",\n          \"Drama|Horror|Thriller\"\n        ],\n        \"semantic_type\": \"\",\n        \"description\": \"\"\n      }\n    },\n    {\n      \"column\": \"movie_title\",\n      \"properties\": {\n        \"dtype\": \"string\",\n        \"num_unique_values\": 91,\n        \"samples\": [\n          \"The Help\",\n          \"The Revenant\",\n          \"Avengers: Age of Ultron\"\n        ],\n        \"semantic_type\": \"\",\n        \"description\": \"\"\n      }\n    },\n    {\n      \"column\": \"title_year\",\n      \"properties\": {\n        \"dtype\": \"number\",\n        \"std\": 255,\n        \"min\": 202,\n        \"max\": 2016,\n        \"num_unique_values\": 9,\n        \"samples\": [\n          2016,\n          2015,\n          2014\n        ],\n        \"semantic_type\": \"\",\n        \"description\": \"\"\n      }\n    },\n    {\n      \"column\": \"language\",\n      \"properties\": {\n        \"dtype\": \"category\",\n        \"num_unique_values\": 1,\n        \"samples\": [\n          \"English\"\n        ],\n        \"semantic_type\": \"\",\n        \"description\": \"\"\n      }\n    },\n    {\n      \"column\": \"country\",\n      \"properties\": {\n        \"dtype\": \"category\",\n        \"num_unique_values\": 12,\n        \"samples\": [\n          \"Kyrgyzstan\"\n        ],\n        \"semantic_type\": \"\",\n        \"description\": \"\"\n      }\n    },\n    {\n      \"column\": \"budget\",\n      \"properties\": {\n        \"dtype\": \"number\",\n        \"std\": 77031692.48433194,\n        \"min\": 17350.0,\n        \"max\": 250000000.0,\n        \"num_unique_values\": 56,\n        \"samples\": [\n          100000000.0\n        ],\n        \"semantic_type\": \"\",\n        \"description\": \"\"\n      }\n    },\n    {\n      \"column\": \"imdb_score\",\n      \"properties\": {\n        \"dtype\": \"number\",\n        \"std\": 1.925513582443392,\n        \"min\": -7.5,\n        \"max\": 8.8,\n        \"num_unique_values\": 35,\n        \"samples\": [\n          3.0\n        ],\n        \"semantic_type\": \"\",\n        \"description\": \"\"\n      }\n    },\n    {\n      \"column\": \"actors\",\n      \"properties\": {\n        \"dtype\": \"string\",\n        \"num_unique_values\": 88,\n        \"samples\": [\n          \"Liam Neeson,Charlize Theron,Seth MacFarlane\"\n        ],\n        \"semantic_type\": \"\",\n        \"description\": \"\"\n      }\n    },\n    {\n      \"column\": \"movie_facebook_likes\",\n      \"properties\": {\n        \"dtype\": \"number\",\n        \"std\": 58108,\n        \"min\": 0,\n        \"max\": 349000,\n        \"num_unique_values\": 67,\n        \"samples\": [\n          72000\n        ],\n        \"semantic_type\": \"\",\n        \"description\": \"\"\n      }\n    }\n  ]\n}"
            }
          },
          "metadata": {},
          "execution_count": 3
        }
      ]
    },
    {
      "cell_type": "code",
      "source": [
        "df.shape"
      ],
      "metadata": {
        "colab": {
          "base_uri": "https://localhost:8080/"
        },
        "id": "Z25e0JHD0caj",
        "outputId": "ad111ef1-8275-4d10-e06f-4a926c853de7"
      },
      "execution_count": 4,
      "outputs": [
        {
          "output_type": "execute_result",
          "data": {
            "text/plain": [
              "(99, 13)"
            ]
          },
          "metadata": {},
          "execution_count": 4
        }
      ]
    },
    {
      "cell_type": "markdown",
      "source": [
        "Cek tipe data dan nilai yang hilang"
      ],
      "metadata": {
        "id": "vQy3d67GoSeZ"
      }
    },
    {
      "cell_type": "code",
      "source": [
        "import numpy as np\n",
        "\n",
        "# replace \"?\" menjadi NaN\n",
        "df.replace(\"?\", np.nan, inplace = True)\n",
        "\n",
        "# cek banyaknya missing value pada masing-masing kolom\n",
        "print(df.isnull().sum())"
      ],
      "metadata": {
        "colab": {
          "base_uri": "https://localhost:8080/"
        },
        "id": "JImQizQD0f_d",
        "outputId": "6ee3da84-2162-452a-a3fb-e36861934c96"
      },
      "execution_count": 5,
      "outputs": [
        {
          "output_type": "stream",
          "name": "stdout",
          "text": [
            "color                   11\n",
            "director_name           11\n",
            "duration                 0\n",
            "gross                    8\n",
            "genres                   1\n",
            "movie_title              0\n",
            "title_year               0\n",
            "language                 0\n",
            "country                  0\n",
            "budget                   4\n",
            "imdb_score               0\n",
            "actors                   0\n",
            "movie_facebook_likes     0\n",
            "dtype: int64\n"
          ]
        }
      ]
    },
    {
      "cell_type": "markdown",
      "source": [
        "### Membersihkan Data"
      ],
      "metadata": {
        "id": "gInDD7Tu1dyG"
      }
    },
    {
      "cell_type": "markdown",
      "source": [
        "Menghapus baris yang memiliki nilai NaN di kolom penting seperti gross dan budget."
      ],
      "metadata": {
        "id": "UiZkgrHQlkqs"
      }
    },
    {
      "cell_type": "code",
      "source": [
        "# simply drop whole row with NaN in \"budget\" column\n",
        "df.dropna(subset=[\"budget\"], axis=0, inplace=True)\n",
        "\n",
        "# simply drop whole row with NaN in \"gross\" column\n",
        "df.dropna(subset=[\"gross\"], axis=0, inplace=True)\n",
        "\n",
        "# simply drop whole row with NaN in \"genres\" column\n",
        "df.dropna(subset=[\"genres\"], axis=0, inplace=True)"
      ],
      "metadata": {
        "id": "HVa5GornkVZ0"
      },
      "execution_count": 6,
      "outputs": []
    },
    {
      "cell_type": "code",
      "source": [
        "# reset index, because we droped rows\n",
        "df.reset_index(drop=True, inplace=True)"
      ],
      "metadata": {
        "id": "BSpkKWiBkltE"
      },
      "execution_count": 7,
      "outputs": []
    },
    {
      "cell_type": "markdown",
      "source": [
        "Menggunakan frequency untuk missing data 'color'"
      ],
      "metadata": {
        "id": "D7j286FFqsuJ"
      }
    },
    {
      "cell_type": "code",
      "source": [
        "# fill NaN in \"color\" with the most frequent value\n",
        "df['color'].fillna(df['color'].mode()[0], inplace=True)\n",
        "print(df.isnull().sum())"
      ],
      "metadata": {
        "colab": {
          "base_uri": "https://localhost:8080/"
        },
        "id": "YVYla1dyqoLh",
        "outputId": "5296b238-fadf-41be-8d46-b5ef1a647bda"
      },
      "execution_count": 8,
      "outputs": [
        {
          "output_type": "stream",
          "name": "stdout",
          "text": [
            "color                    0\n",
            "director_name           10\n",
            "duration                 0\n",
            "gross                    0\n",
            "genres                   0\n",
            "movie_title              0\n",
            "title_year               0\n",
            "language                 0\n",
            "country                  0\n",
            "budget                   0\n",
            "imdb_score               0\n",
            "actors                   0\n",
            "movie_facebook_likes     0\n",
            "dtype: int64\n"
          ]
        },
        {
          "output_type": "stream",
          "name": "stderr",
          "text": [
            "/tmp/ipython-input-4219101057.py:2: FutureWarning: A value is trying to be set on a copy of a DataFrame or Series through chained assignment using an inplace method.\n",
            "The behavior will change in pandas 3.0. This inplace method will never work because the intermediate object on which we are setting values always behaves as a copy.\n",
            "\n",
            "For example, when doing 'df[col].method(value, inplace=True)', try using 'df.method({col: value}, inplace=True)' or df[col] = df[col].method(value) instead, to perform the operation inplace on the original object.\n",
            "\n",
            "\n",
            "  df['color'].fillna(df['color'].mode()[0], inplace=True)\n"
          ]
        }
      ]
    },
    {
      "cell_type": "markdown",
      "source": [
        "Drop kolom 'director_name'"
      ],
      "metadata": {
        "id": "zsIZt0cNrTBW"
      }
    },
    {
      "cell_type": "code",
      "source": [
        "# Drop the 'director_name' columns\n",
        "df.drop(['director_name'], axis=1, inplace=True)"
      ],
      "metadata": {
        "id": "pZl8LqNvrSvy"
      },
      "execution_count": 12,
      "outputs": []
    },
    {
      "cell_type": "code",
      "source": [
        "print(df.head())"
      ],
      "metadata": {
        "colab": {
          "base_uri": "https://localhost:8080/"
        },
        "id": "t6CGJvXLkz7n",
        "outputId": "c8f9aad3-595d-4b0f-9916-8281ce05e98d"
      },
      "execution_count": 13,
      "outputs": [
        {
          "output_type": "stream",
          "name": "stdout",
          "text": [
            "    color  duration        gross                                genres  \\\n",
            "0   color     240.0  116866727.0          Biography|Comedy|Crime|Drama   \n",
            "1   color     195.0  408992272.0               Action|Adventure|Sci-Fi   \n",
            "2  color      187.0   54116191.0  Crime|Drama|Mystery|Thriller|Western   \n",
            "3   color     186.0      46495.0                                 Drama   \n",
            "4   color     186.0  258355354.0                     Adventure|Fantasy   \n",
            "\n",
            "                           movie_title  title_year language country  \\\n",
            "0              The Wolf of Wall Street        2013  English     USA   \n",
            "1                           Iron Man 3        2013  English     USA   \n",
            "2                    The Hateful Eight        2015  English     USA   \n",
            "3                             Margaret        2011  English     usa   \n",
            "4  The Hobbit: The Desolation of Smaug        2013  English     USA   \n",
            "\n",
            "        budget  imdb_score                                             actors  \\\n",
            "0  100000000.0         8.2  Leonardo DiCaprio,Matthew McConaughey,Jon Favreau   \n",
            "1  200000000.0         7.2          Robert Downey Jr.,Jon Favreau,Don Cheadle   \n",
            "2   44000000.0         7.9          Craig Stark,Jennifer Jason Leigh,Zoë Bell   \n",
            "3   14000000.0         6.5        Matt Damon,Kieran Culkin,John Gallagher Jr.   \n",
            "4  225000000.0         7.9              Aidan Turner,Adam Brown,James Nesbitt   \n",
            "\n",
            "   movie_facebook_likes  \n",
            "0                138000  \n",
            "1                 95000  \n",
            "2                114000  \n",
            "3                     0  \n",
            "4                 83000  \n"
          ]
        }
      ]
    },
    {
      "cell_type": "markdown",
      "source": [
        "Mengatasi nilai yang tidak konsisten"
      ],
      "metadata": {
        "id": "jPnRs4UtloEW"
      }
    },
    {
      "cell_type": "code",
      "source": [
        "# Standardize 'color' column by converting to lowercase\n",
        "df['color'] = df['color'].str.lower()"
      ],
      "metadata": {
        "id": "e9e58gbBk5iv"
      },
      "execution_count": 14,
      "outputs": []
    },
    {
      "cell_type": "markdown",
      "source": [
        "Mengubah atau hapus nilai-nilai yang tidak standar, seperti nilai negatif atau \"N/A\""
      ],
      "metadata": {
        "id": "K7YlEoralriq"
      }
    },
    {
      "cell_type": "code",
      "source": [
        "# Handle negative values in 'duration' and 'imdb_score' by replacing them with NaN\n",
        "df['duration'] = df['duration'].apply(lambda x: np.nan if x < 0 else x)\n",
        "df['imdb_score'] = df['imdb_score'].apply(lambda x: np.nan if x < 0 else x)\n",
        "\n",
        "# Replace any remaining non-standard string values in object columns with NaN\n",
        "object_cols = df.select_dtypes(include='object').columns\n",
        "for col in object_cols:\n",
        "    df[col] = df[col].replace(['N/A', '#N/A', 'NA', 'NULL', 'n/a', '#n/a', 'na', 'null'], np.nan)\n",
        "\n",
        "# Display the number of missing values after handling non-standard values\n",
        "print(df.isnull().sum())"
      ],
      "metadata": {
        "colab": {
          "base_uri": "https://localhost:8080/"
        },
        "id": "r1veYAw-lDuJ",
        "outputId": "5353dac5-591e-474f-cfbc-4ad6cca0cb1c"
      },
      "execution_count": 15,
      "outputs": [
        {
          "output_type": "stream",
          "name": "stdout",
          "text": [
            "color                   0\n",
            "duration                1\n",
            "gross                   0\n",
            "genres                  0\n",
            "movie_title             0\n",
            "title_year              0\n",
            "language                0\n",
            "country                 0\n",
            "budget                  0\n",
            "imdb_score              2\n",
            "actors                  0\n",
            "movie_facebook_likes    0\n",
            "dtype: int64\n"
          ]
        }
      ]
    },
    {
      "cell_type": "code",
      "metadata": {
        "colab": {
          "base_uri": "https://localhost:8080/"
        },
        "id": "f4fad9e0",
        "outputId": "3ca6aae2-a79d-4283-e717-40f3215a1bd4"
      },
      "source": [
        "# Check for negative values in numerical columns\n",
        "numerical_cols = df.select_dtypes(include=np.number).columns\n",
        "for col in numerical_cols:\n",
        "    if (df[col] < 0).any():\n",
        "        print(f\"Column '{col}' contains negative values.\")\n",
        "\n",
        "# Check for non-standard string values in object columns (beyond NaN which are already handled)\n",
        "object_cols = df.select_dtypes(include='object').columns\n",
        "for col in object_cols:\n",
        "    # This is a basic check and might need adjustment based on actual non-standard values\n",
        "    if df[col].astype(str).str.contains('N/A|#N/A|NA|NULL', case=False).any():\n",
        "        print(f\"Column '{col}' contains non-standard string values.\")"
      ],
      "execution_count": 16,
      "outputs": [
        {
          "output_type": "stream",
          "name": "stdout",
          "text": [
            "Column 'movie_title' contains non-standard string values.\n",
            "Column 'actors' contains non-standard string values.\n"
          ]
        }
      ]
    },
    {
      "cell_type": "markdown",
      "source": [
        "Cek missing value setelah penanganan nilai negatif"
      ],
      "metadata": {
        "id": "4pcvWiFQuEEr"
      }
    },
    {
      "cell_type": "code",
      "source": [
        "print(df.isnull().sum())"
      ],
      "metadata": {
        "colab": {
          "base_uri": "https://localhost:8080/"
        },
        "id": "zFq-skZMt6DN",
        "outputId": "0a71b91c-160d-4634-a684-c1b969c2b186"
      },
      "execution_count": 17,
      "outputs": [
        {
          "output_type": "stream",
          "name": "stdout",
          "text": [
            "color                   0\n",
            "duration                1\n",
            "gross                   0\n",
            "genres                  0\n",
            "movie_title             0\n",
            "title_year              0\n",
            "language                0\n",
            "country                 0\n",
            "budget                  0\n",
            "imdb_score              2\n",
            "actors                  0\n",
            "movie_facebook_likes    0\n",
            "dtype: int64\n"
          ]
        }
      ]
    },
    {
      "cell_type": "markdown",
      "source": [
        "Melakukan pembersihan data kembali"
      ],
      "metadata": {
        "id": "1apz4610uJk_"
      }
    },
    {
      "cell_type": "markdown",
      "source": [
        "drop row"
      ],
      "metadata": {
        "id": "xmaPMGfCu1fC"
      }
    },
    {
      "cell_type": "code",
      "source": [
        "# simply drop whole row with NaN in \"duration\" column\n",
        "df.dropna(subset=[\"duration\"], axis=0, inplace=True)\n",
        "\n",
        "# simply drop whole row with NaN in \"imdb_score\" column\n",
        "df.dropna(subset=[\"imdb_score\"], axis=0, inplace=True)"
      ],
      "metadata": {
        "id": "xK1xdtddt5IF"
      },
      "execution_count": 19,
      "outputs": []
    },
    {
      "cell_type": "code",
      "source": [
        "# reset index, because we droped rows\n",
        "df.reset_index(drop=True, inplace=True)"
      ],
      "metadata": {
        "id": "Sd5mck1LuYUu"
      },
      "execution_count": 20,
      "outputs": []
    },
    {
      "cell_type": "code",
      "source": [
        "print(\"\\nMissing values after cleaning and transformation:\")\n",
        "print(df.isnull().sum())"
      ],
      "metadata": {
        "colab": {
          "base_uri": "https://localhost:8080/"
        },
        "id": "LsUIAIOeucAj",
        "outputId": "98932f5d-4fe9-4c68-8467-ef6efe2d6f93"
      },
      "execution_count": 21,
      "outputs": [
        {
          "output_type": "stream",
          "name": "stdout",
          "text": [
            "\n",
            "Missing values after cleaning and transformation:\n",
            "color                   0\n",
            "duration                0\n",
            "gross                   0\n",
            "genres                  0\n",
            "movie_title             0\n",
            "title_year              0\n",
            "language                0\n",
            "country                 0\n",
            "budget                  0\n",
            "imdb_score              0\n",
            "actors                  0\n",
            "movie_facebook_likes    0\n",
            "dtype: int64\n"
          ]
        }
      ]
    },
    {
      "cell_type": "markdown",
      "source": [
        "### Transformasi Data"
      ],
      "metadata": {
        "id": "kn1APVfrl2VV"
      }
    },
    {
      "cell_type": "markdown",
      "source": [
        "Mengubah tipe data kolom menjadi tipe data yang sesuai"
      ],
      "metadata": {
        "id": "5o5H7s6Vl5d4"
      }
    },
    {
      "cell_type": "markdown",
      "source": [
        "Cek tipe data"
      ],
      "metadata": {
        "id": "0Govms6UpkAg"
      }
    },
    {
      "cell_type": "code",
      "metadata": {
        "colab": {
          "base_uri": "https://localhost:8080/"
        },
        "id": "1a041f86",
        "outputId": "5a8d5982-88a1-460f-b2fc-aa5f9935db09"
      },
      "source": [
        "print(df.dtypes)"
      ],
      "execution_count": 22,
      "outputs": [
        {
          "output_type": "stream",
          "name": "stdout",
          "text": [
            "color                    object\n",
            "duration                float64\n",
            "gross                   float64\n",
            "genres                   object\n",
            "movie_title              object\n",
            "title_year                int64\n",
            "language                 object\n",
            "country                  object\n",
            "budget                  float64\n",
            "imdb_score              float64\n",
            "actors                   object\n",
            "movie_facebook_likes      int64\n",
            "dtype: object\n"
          ]
        }
      ]
    },
    {
      "cell_type": "markdown",
      "source": [
        "Ubah tipe data\n",
        "Konversi budget dan gross menjadi int/numerik"
      ],
      "metadata": {
        "id": "_BLhBqw3pnij"
      }
    },
    {
      "cell_type": "code",
      "source": [
        "df[\"gross\"] = df[\"gross\"].astype(\"int\")\n",
        "df[\"budget\"] = df[\"budget\"].astype(\"int\")"
      ],
      "metadata": {
        "id": "LZV25JicURcA"
      },
      "execution_count": 23,
      "outputs": []
    },
    {
      "cell_type": "markdown",
      "source": [
        "Cek kembali tipe data"
      ],
      "metadata": {
        "id": "_uroZmwspqC3"
      }
    },
    {
      "cell_type": "code",
      "source": [
        "print(df.dtypes)"
      ],
      "metadata": {
        "colab": {
          "base_uri": "https://localhost:8080/"
        },
        "id": "iQXsXFjCUeOg",
        "outputId": "f21cf9e6-eb01-4df9-8030-5e4bd1d5eac3"
      },
      "execution_count": 24,
      "outputs": [
        {
          "output_type": "stream",
          "name": "stdout",
          "text": [
            "color                    object\n",
            "duration                float64\n",
            "gross                     int64\n",
            "genres                   object\n",
            "movie_title              object\n",
            "title_year                int64\n",
            "language                 object\n",
            "country                  object\n",
            "budget                    int64\n",
            "imdb_score              float64\n",
            "actors                   object\n",
            "movie_facebook_likes      int64\n",
            "dtype: object\n"
          ]
        }
      ]
    },
    {
      "cell_type": "markdown",
      "source": [
        "Memisahkan genre yang bergabung"
      ],
      "metadata": {
        "id": "vmT5TDzbmUIk"
      }
    },
    {
      "cell_type": "code",
      "source": [
        "# Separate genres into multiple columns\n",
        "genres = df['genres'].str.get_dummies('|')\n",
        "df = pd.concat([df, genres], axis=1)"
      ],
      "metadata": {
        "id": "N14HNyMBmW6S"
      },
      "execution_count": 25,
      "outputs": []
    },
    {
      "cell_type": "markdown",
      "source": [
        "Menghilangkan kolom 'genres' dan digantikan dengan memisah tiap genre"
      ],
      "metadata": {
        "id": "TITD0VHKqV8Q"
      }
    },
    {
      "cell_type": "code",
      "source": [
        "df.drop('genres', axis=1, inplace=True)"
      ],
      "metadata": {
        "id": "7AVTFA7UnJ07"
      },
      "execution_count": 26,
      "outputs": []
    },
    {
      "cell_type": "code",
      "source": [
        "display(df.head())\n",
        "print(df.columns)"
      ],
      "metadata": {
        "colab": {
          "base_uri": "https://localhost:8080/",
          "height": 637
        },
        "id": "kZC_NGRCnQkJ",
        "outputId": "ea2a8806-ab48-4f94-e4cb-87310c6c25ac"
      },
      "execution_count": 27,
      "outputs": [
        {
          "output_type": "display_data",
          "data": {
            "text/plain": [
              "    color  duration      gross                          movie_title  \\\n",
              "0   color     240.0  116866727              The Wolf of Wall Street   \n",
              "1   color     195.0  408992272                           Iron Man 3   \n",
              "2  color      187.0   54116191                    The Hateful Eight   \n",
              "3   color     186.0      46495                             Margaret   \n",
              "4   color     186.0  258355354  The Hobbit: The Desolation of Smaug   \n",
              "\n",
              "   title_year language country     budget  imdb_score  \\\n",
              "0        2013  English     USA  100000000         8.2   \n",
              "1        2013  English     USA  200000000         7.2   \n",
              "2        2015  English     USA   44000000         7.9   \n",
              "3        2011  English     usa   14000000         6.5   \n",
              "4        2013  English     USA  225000000         7.9   \n",
              "\n",
              "                                              actors  ...  History  Music  \\\n",
              "0  Leonardo DiCaprio,Matthew McConaughey,Jon Favreau  ...        0      0   \n",
              "1          Robert Downey Jr.,Jon Favreau,Don Cheadle  ...        0      0   \n",
              "2          Craig Stark,Jennifer Jason Leigh,Zoë Bell  ...        0      0   \n",
              "3        Matt Damon,Kieran Culkin,John Gallagher Jr.  ...        0      0   \n",
              "4              Aidan Turner,Adam Brown,James Nesbitt  ...        0      0   \n",
              "\n",
              "   Musical  Mystery  Romance  Sci-Fi  Sport  Thriller  War  Western  \n",
              "0        0        0        0       0      0         0    0        0  \n",
              "1        0        0        0       1      0         0    0        0  \n",
              "2        0        1        0       0      0         1    0        1  \n",
              "3        0        0        0       0      0         0    0        0  \n",
              "4        0        0        0       0      0         0    0        0  \n",
              "\n",
              "[5 rows x 28 columns]"
            ],
            "text/html": [
              "\n",
              "  <div id=\"df-5c2cb4c5-639b-4cd6-aa09-65768ae19cec\" class=\"colab-df-container\">\n",
              "    <div>\n",
              "<style scoped>\n",
              "    .dataframe tbody tr th:only-of-type {\n",
              "        vertical-align: middle;\n",
              "    }\n",
              "\n",
              "    .dataframe tbody tr th {\n",
              "        vertical-align: top;\n",
              "    }\n",
              "\n",
              "    .dataframe thead th {\n",
              "        text-align: right;\n",
              "    }\n",
              "</style>\n",
              "<table border=\"1\" class=\"dataframe\">\n",
              "  <thead>\n",
              "    <tr style=\"text-align: right;\">\n",
              "      <th></th>\n",
              "      <th>color</th>\n",
              "      <th>duration</th>\n",
              "      <th>gross</th>\n",
              "      <th>movie_title</th>\n",
              "      <th>title_year</th>\n",
              "      <th>language</th>\n",
              "      <th>country</th>\n",
              "      <th>budget</th>\n",
              "      <th>imdb_score</th>\n",
              "      <th>actors</th>\n",
              "      <th>...</th>\n",
              "      <th>History</th>\n",
              "      <th>Music</th>\n",
              "      <th>Musical</th>\n",
              "      <th>Mystery</th>\n",
              "      <th>Romance</th>\n",
              "      <th>Sci-Fi</th>\n",
              "      <th>Sport</th>\n",
              "      <th>Thriller</th>\n",
              "      <th>War</th>\n",
              "      <th>Western</th>\n",
              "    </tr>\n",
              "  </thead>\n",
              "  <tbody>\n",
              "    <tr>\n",
              "      <th>0</th>\n",
              "      <td>color</td>\n",
              "      <td>240.0</td>\n",
              "      <td>116866727</td>\n",
              "      <td>The Wolf of Wall Street</td>\n",
              "      <td>2013</td>\n",
              "      <td>English</td>\n",
              "      <td>USA</td>\n",
              "      <td>100000000</td>\n",
              "      <td>8.2</td>\n",
              "      <td>Leonardo DiCaprio,Matthew McConaughey,Jon Favreau</td>\n",
              "      <td>...</td>\n",
              "      <td>0</td>\n",
              "      <td>0</td>\n",
              "      <td>0</td>\n",
              "      <td>0</td>\n",
              "      <td>0</td>\n",
              "      <td>0</td>\n",
              "      <td>0</td>\n",
              "      <td>0</td>\n",
              "      <td>0</td>\n",
              "      <td>0</td>\n",
              "    </tr>\n",
              "    <tr>\n",
              "      <th>1</th>\n",
              "      <td>color</td>\n",
              "      <td>195.0</td>\n",
              "      <td>408992272</td>\n",
              "      <td>Iron Man 3</td>\n",
              "      <td>2013</td>\n",
              "      <td>English</td>\n",
              "      <td>USA</td>\n",
              "      <td>200000000</td>\n",
              "      <td>7.2</td>\n",
              "      <td>Robert Downey Jr.,Jon Favreau,Don Cheadle</td>\n",
              "      <td>...</td>\n",
              "      <td>0</td>\n",
              "      <td>0</td>\n",
              "      <td>0</td>\n",
              "      <td>0</td>\n",
              "      <td>0</td>\n",
              "      <td>1</td>\n",
              "      <td>0</td>\n",
              "      <td>0</td>\n",
              "      <td>0</td>\n",
              "      <td>0</td>\n",
              "    </tr>\n",
              "    <tr>\n",
              "      <th>2</th>\n",
              "      <td>color</td>\n",
              "      <td>187.0</td>\n",
              "      <td>54116191</td>\n",
              "      <td>The Hateful Eight</td>\n",
              "      <td>2015</td>\n",
              "      <td>English</td>\n",
              "      <td>USA</td>\n",
              "      <td>44000000</td>\n",
              "      <td>7.9</td>\n",
              "      <td>Craig Stark,Jennifer Jason Leigh,Zoë Bell</td>\n",
              "      <td>...</td>\n",
              "      <td>0</td>\n",
              "      <td>0</td>\n",
              "      <td>0</td>\n",
              "      <td>1</td>\n",
              "      <td>0</td>\n",
              "      <td>0</td>\n",
              "      <td>0</td>\n",
              "      <td>1</td>\n",
              "      <td>0</td>\n",
              "      <td>1</td>\n",
              "    </tr>\n",
              "    <tr>\n",
              "      <th>3</th>\n",
              "      <td>color</td>\n",
              "      <td>186.0</td>\n",
              "      <td>46495</td>\n",
              "      <td>Margaret</td>\n",
              "      <td>2011</td>\n",
              "      <td>English</td>\n",
              "      <td>usa</td>\n",
              "      <td>14000000</td>\n",
              "      <td>6.5</td>\n",
              "      <td>Matt Damon,Kieran Culkin,John Gallagher Jr.</td>\n",
              "      <td>...</td>\n",
              "      <td>0</td>\n",
              "      <td>0</td>\n",
              "      <td>0</td>\n",
              "      <td>0</td>\n",
              "      <td>0</td>\n",
              "      <td>0</td>\n",
              "      <td>0</td>\n",
              "      <td>0</td>\n",
              "      <td>0</td>\n",
              "      <td>0</td>\n",
              "    </tr>\n",
              "    <tr>\n",
              "      <th>4</th>\n",
              "      <td>color</td>\n",
              "      <td>186.0</td>\n",
              "      <td>258355354</td>\n",
              "      <td>The Hobbit: The Desolation of Smaug</td>\n",
              "      <td>2013</td>\n",
              "      <td>English</td>\n",
              "      <td>USA</td>\n",
              "      <td>225000000</td>\n",
              "      <td>7.9</td>\n",
              "      <td>Aidan Turner,Adam Brown,James Nesbitt</td>\n",
              "      <td>...</td>\n",
              "      <td>0</td>\n",
              "      <td>0</td>\n",
              "      <td>0</td>\n",
              "      <td>0</td>\n",
              "      <td>0</td>\n",
              "      <td>0</td>\n",
              "      <td>0</td>\n",
              "      <td>0</td>\n",
              "      <td>0</td>\n",
              "      <td>0</td>\n",
              "    </tr>\n",
              "  </tbody>\n",
              "</table>\n",
              "<p>5 rows × 28 columns</p>\n",
              "</div>\n",
              "    <div class=\"colab-df-buttons\">\n",
              "\n",
              "  <div class=\"colab-df-container\">\n",
              "    <button class=\"colab-df-convert\" onclick=\"convertToInteractive('df-5c2cb4c5-639b-4cd6-aa09-65768ae19cec')\"\n",
              "            title=\"Convert this dataframe to an interactive table.\"\n",
              "            style=\"display:none;\">\n",
              "\n",
              "  <svg xmlns=\"http://www.w3.org/2000/svg\" height=\"24px\" viewBox=\"0 -960 960 960\">\n",
              "    <path d=\"M120-120v-720h720v720H120Zm60-500h600v-160H180v160Zm220 220h160v-160H400v160Zm0 220h160v-160H400v160ZM180-400h160v-160H180v160Zm440 0h160v-160H620v160ZM180-180h160v-160H180v160Zm440 0h160v-160H620v160Z\"/>\n",
              "  </svg>\n",
              "    </button>\n",
              "\n",
              "  <style>\n",
              "    .colab-df-container {\n",
              "      display:flex;\n",
              "      gap: 12px;\n",
              "    }\n",
              "\n",
              "    .colab-df-convert {\n",
              "      background-color: #E8F0FE;\n",
              "      border: none;\n",
              "      border-radius: 50%;\n",
              "      cursor: pointer;\n",
              "      display: none;\n",
              "      fill: #1967D2;\n",
              "      height: 32px;\n",
              "      padding: 0 0 0 0;\n",
              "      width: 32px;\n",
              "    }\n",
              "\n",
              "    .colab-df-convert:hover {\n",
              "      background-color: #E2EBFA;\n",
              "      box-shadow: 0px 1px 2px rgba(60, 64, 67, 0.3), 0px 1px 3px 1px rgba(60, 64, 67, 0.15);\n",
              "      fill: #174EA6;\n",
              "    }\n",
              "\n",
              "    .colab-df-buttons div {\n",
              "      margin-bottom: 4px;\n",
              "    }\n",
              "\n",
              "    [theme=dark] .colab-df-convert {\n",
              "      background-color: #3B4455;\n",
              "      fill: #D2E3FC;\n",
              "    }\n",
              "\n",
              "    [theme=dark] .colab-df-convert:hover {\n",
              "      background-color: #434B5C;\n",
              "      box-shadow: 0px 1px 3px 1px rgba(0, 0, 0, 0.15);\n",
              "      filter: drop-shadow(0px 1px 2px rgba(0, 0, 0, 0.3));\n",
              "      fill: #FFFFFF;\n",
              "    }\n",
              "  </style>\n",
              "\n",
              "    <script>\n",
              "      const buttonEl =\n",
              "        document.querySelector('#df-5c2cb4c5-639b-4cd6-aa09-65768ae19cec button.colab-df-convert');\n",
              "      buttonEl.style.display =\n",
              "        google.colab.kernel.accessAllowed ? 'block' : 'none';\n",
              "\n",
              "      async function convertToInteractive(key) {\n",
              "        const element = document.querySelector('#df-5c2cb4c5-639b-4cd6-aa09-65768ae19cec');\n",
              "        const dataTable =\n",
              "          await google.colab.kernel.invokeFunction('convertToInteractive',\n",
              "                                                    [key], {});\n",
              "        if (!dataTable) return;\n",
              "\n",
              "        const docLinkHtml = 'Like what you see? Visit the ' +\n",
              "          '<a target=\"_blank\" href=https://colab.research.google.com/notebooks/data_table.ipynb>data table notebook</a>'\n",
              "          + ' to learn more about interactive tables.';\n",
              "        element.innerHTML = '';\n",
              "        dataTable['output_type'] = 'display_data';\n",
              "        await google.colab.output.renderOutput(dataTable, element);\n",
              "        const docLink = document.createElement('div');\n",
              "        docLink.innerHTML = docLinkHtml;\n",
              "        element.appendChild(docLink);\n",
              "      }\n",
              "    </script>\n",
              "  </div>\n",
              "\n",
              "\n",
              "    <div id=\"df-04e4b8b3-838d-49fc-95af-eef46ebadf14\">\n",
              "      <button class=\"colab-df-quickchart\" onclick=\"quickchart('df-04e4b8b3-838d-49fc-95af-eef46ebadf14')\"\n",
              "                title=\"Suggest charts\"\n",
              "                style=\"display:none;\">\n",
              "\n",
              "<svg xmlns=\"http://www.w3.org/2000/svg\" height=\"24px\"viewBox=\"0 0 24 24\"\n",
              "     width=\"24px\">\n",
              "    <g>\n",
              "        <path d=\"M19 3H5c-1.1 0-2 .9-2 2v14c0 1.1.9 2 2 2h14c1.1 0 2-.9 2-2V5c0-1.1-.9-2-2-2zM9 17H7v-7h2v7zm4 0h-2V7h2v10zm4 0h-2v-4h2v4z\"/>\n",
              "    </g>\n",
              "</svg>\n",
              "      </button>\n",
              "\n",
              "<style>\n",
              "  .colab-df-quickchart {\n",
              "      --bg-color: #E8F0FE;\n",
              "      --fill-color: #1967D2;\n",
              "      --hover-bg-color: #E2EBFA;\n",
              "      --hover-fill-color: #174EA6;\n",
              "      --disabled-fill-color: #AAA;\n",
              "      --disabled-bg-color: #DDD;\n",
              "  }\n",
              "\n",
              "  [theme=dark] .colab-df-quickchart {\n",
              "      --bg-color: #3B4455;\n",
              "      --fill-color: #D2E3FC;\n",
              "      --hover-bg-color: #434B5C;\n",
              "      --hover-fill-color: #FFFFFF;\n",
              "      --disabled-bg-color: #3B4455;\n",
              "      --disabled-fill-color: #666;\n",
              "  }\n",
              "\n",
              "  .colab-df-quickchart {\n",
              "    background-color: var(--bg-color);\n",
              "    border: none;\n",
              "    border-radius: 50%;\n",
              "    cursor: pointer;\n",
              "    display: none;\n",
              "    fill: var(--fill-color);\n",
              "    height: 32px;\n",
              "    padding: 0;\n",
              "    width: 32px;\n",
              "  }\n",
              "\n",
              "  .colab-df-quickchart:hover {\n",
              "    background-color: var(--hover-bg-color);\n",
              "    box-shadow: 0 1px 2px rgba(60, 64, 67, 0.3), 0 1px 3px 1px rgba(60, 64, 67, 0.15);\n",
              "    fill: var(--button-hover-fill-color);\n",
              "  }\n",
              "\n",
              "  .colab-df-quickchart-complete:disabled,\n",
              "  .colab-df-quickchart-complete:disabled:hover {\n",
              "    background-color: var(--disabled-bg-color);\n",
              "    fill: var(--disabled-fill-color);\n",
              "    box-shadow: none;\n",
              "  }\n",
              "\n",
              "  .colab-df-spinner {\n",
              "    border: 2px solid var(--fill-color);\n",
              "    border-color: transparent;\n",
              "    border-bottom-color: var(--fill-color);\n",
              "    animation:\n",
              "      spin 1s steps(1) infinite;\n",
              "  }\n",
              "\n",
              "  @keyframes spin {\n",
              "    0% {\n",
              "      border-color: transparent;\n",
              "      border-bottom-color: var(--fill-color);\n",
              "      border-left-color: var(--fill-color);\n",
              "    }\n",
              "    20% {\n",
              "      border-color: transparent;\n",
              "      border-left-color: var(--fill-color);\n",
              "      border-top-color: var(--fill-color);\n",
              "    }\n",
              "    30% {\n",
              "      border-color: transparent;\n",
              "      border-left-color: var(--fill-color);\n",
              "      border-top-color: var(--fill-color);\n",
              "      border-right-color: var(--fill-color);\n",
              "    }\n",
              "    40% {\n",
              "      border-color: transparent;\n",
              "      border-right-color: var(--fill-color);\n",
              "      border-top-color: var(--fill-color);\n",
              "    }\n",
              "    60% {\n",
              "      border-color: transparent;\n",
              "      border-right-color: var(--fill-color);\n",
              "    }\n",
              "    80% {\n",
              "      border-color: transparent;\n",
              "      border-right-color: var(--fill-color);\n",
              "      border-bottom-color: var(--fill-color);\n",
              "    }\n",
              "    90% {\n",
              "      border-color: transparent;\n",
              "      border-bottom-color: var(--fill-color);\n",
              "    }\n",
              "  }\n",
              "</style>\n",
              "\n",
              "      <script>\n",
              "        async function quickchart(key) {\n",
              "          const quickchartButtonEl =\n",
              "            document.querySelector('#' + key + ' button');\n",
              "          quickchartButtonEl.disabled = true;  // To prevent multiple clicks.\n",
              "          quickchartButtonEl.classList.add('colab-df-spinner');\n",
              "          try {\n",
              "            const charts = await google.colab.kernel.invokeFunction(\n",
              "                'suggestCharts', [key], {});\n",
              "          } catch (error) {\n",
              "            console.error('Error during call to suggestCharts:', error);\n",
              "          }\n",
              "          quickchartButtonEl.classList.remove('colab-df-spinner');\n",
              "          quickchartButtonEl.classList.add('colab-df-quickchart-complete');\n",
              "        }\n",
              "        (() => {\n",
              "          let quickchartButtonEl =\n",
              "            document.querySelector('#df-04e4b8b3-838d-49fc-95af-eef46ebadf14 button');\n",
              "          quickchartButtonEl.style.display =\n",
              "            google.colab.kernel.accessAllowed ? 'block' : 'none';\n",
              "        })();\n",
              "      </script>\n",
              "    </div>\n",
              "\n",
              "    </div>\n",
              "  </div>\n"
            ],
            "application/vnd.google.colaboratory.intrinsic+json": {
              "type": "dataframe"
            }
          },
          "metadata": {}
        },
        {
          "output_type": "stream",
          "name": "stdout",
          "text": [
            "Index(['color', 'duration', 'gross', 'movie_title', 'title_year', 'language',\n",
            "       'country', 'budget', 'imdb_score', 'actors', 'movie_facebook_likes',\n",
            "       'Action', 'Adventure', 'Biography', 'Comedy', 'Crime', 'Drama',\n",
            "       'Fantasy', 'History', 'Music', 'Musical', 'Mystery', 'Romance',\n",
            "       'Sci-Fi', 'Sport', 'Thriller', 'War', 'Western'],\n",
            "      dtype='object')\n"
          ]
        }
      ]
    },
    {
      "cell_type": "markdown",
      "source": [
        "Normalisasi teks untuk memastikan konsistensi"
      ],
      "metadata": {
        "id": "nCRS9gdYnbn0"
      }
    },
    {
      "cell_type": "code",
      "source": [
        "# Normalize text in object columns by converting to lowercase\n",
        "object_cols_to_normalize = ['director_name', 'movie_title', 'language', 'country', 'actors']\n",
        "for col in object_cols_to_normalize:\n",
        "    if col in df.columns and df[col].dtype == 'object':\n",
        "        df[col] = df[col].str.lower()"
      ],
      "metadata": {
        "id": "604Z4sGonfGg"
      },
      "execution_count": 28,
      "outputs": []
    },
    {
      "cell_type": "code",
      "source": [
        "display(df.head())\n",
        "print(df.columns)"
      ],
      "metadata": {
        "colab": {
          "base_uri": "https://localhost:8080/",
          "height": 637
        },
        "id": "UHGqdYn6nx-3",
        "outputId": "7fdbf30b-bcc8-45ab-d9c2-45c3219f362a"
      },
      "execution_count": 29,
      "outputs": [
        {
          "output_type": "display_data",
          "data": {
            "text/plain": [
              "    color  duration      gross                          movie_title  \\\n",
              "0   color     240.0  116866727              the wolf of wall street   \n",
              "1   color     195.0  408992272                           iron man 3   \n",
              "2  color      187.0   54116191                    the hateful eight   \n",
              "3   color     186.0      46495                             margaret   \n",
              "4   color     186.0  258355354  the hobbit: the desolation of smaug   \n",
              "\n",
              "   title_year language country     budget  imdb_score  \\\n",
              "0        2013  english     usa  100000000         8.2   \n",
              "1        2013  english     usa  200000000         7.2   \n",
              "2        2015  english     usa   44000000         7.9   \n",
              "3        2011  english     usa   14000000         6.5   \n",
              "4        2013  english     usa  225000000         7.9   \n",
              "\n",
              "                                              actors  ...  History  Music  \\\n",
              "0  leonardo dicaprio,matthew mcconaughey,jon favreau  ...        0      0   \n",
              "1          robert downey jr.,jon favreau,don cheadle  ...        0      0   \n",
              "2          craig stark,jennifer jason leigh,zoë bell  ...        0      0   \n",
              "3        matt damon,kieran culkin,john gallagher jr.  ...        0      0   \n",
              "4              aidan turner,adam brown,james nesbitt  ...        0      0   \n",
              "\n",
              "   Musical  Mystery  Romance  Sci-Fi  Sport  Thriller  War  Western  \n",
              "0        0        0        0       0      0         0    0        0  \n",
              "1        0        0        0       1      0         0    0        0  \n",
              "2        0        1        0       0      0         1    0        1  \n",
              "3        0        0        0       0      0         0    0        0  \n",
              "4        0        0        0       0      0         0    0        0  \n",
              "\n",
              "[5 rows x 28 columns]"
            ],
            "text/html": [
              "\n",
              "  <div id=\"df-89e93f9b-2466-4ba6-9c6d-68e400fed6d5\" class=\"colab-df-container\">\n",
              "    <div>\n",
              "<style scoped>\n",
              "    .dataframe tbody tr th:only-of-type {\n",
              "        vertical-align: middle;\n",
              "    }\n",
              "\n",
              "    .dataframe tbody tr th {\n",
              "        vertical-align: top;\n",
              "    }\n",
              "\n",
              "    .dataframe thead th {\n",
              "        text-align: right;\n",
              "    }\n",
              "</style>\n",
              "<table border=\"1\" class=\"dataframe\">\n",
              "  <thead>\n",
              "    <tr style=\"text-align: right;\">\n",
              "      <th></th>\n",
              "      <th>color</th>\n",
              "      <th>duration</th>\n",
              "      <th>gross</th>\n",
              "      <th>movie_title</th>\n",
              "      <th>title_year</th>\n",
              "      <th>language</th>\n",
              "      <th>country</th>\n",
              "      <th>budget</th>\n",
              "      <th>imdb_score</th>\n",
              "      <th>actors</th>\n",
              "      <th>...</th>\n",
              "      <th>History</th>\n",
              "      <th>Music</th>\n",
              "      <th>Musical</th>\n",
              "      <th>Mystery</th>\n",
              "      <th>Romance</th>\n",
              "      <th>Sci-Fi</th>\n",
              "      <th>Sport</th>\n",
              "      <th>Thriller</th>\n",
              "      <th>War</th>\n",
              "      <th>Western</th>\n",
              "    </tr>\n",
              "  </thead>\n",
              "  <tbody>\n",
              "    <tr>\n",
              "      <th>0</th>\n",
              "      <td>color</td>\n",
              "      <td>240.0</td>\n",
              "      <td>116866727</td>\n",
              "      <td>the wolf of wall street</td>\n",
              "      <td>2013</td>\n",
              "      <td>english</td>\n",
              "      <td>usa</td>\n",
              "      <td>100000000</td>\n",
              "      <td>8.2</td>\n",
              "      <td>leonardo dicaprio,matthew mcconaughey,jon favreau</td>\n",
              "      <td>...</td>\n",
              "      <td>0</td>\n",
              "      <td>0</td>\n",
              "      <td>0</td>\n",
              "      <td>0</td>\n",
              "      <td>0</td>\n",
              "      <td>0</td>\n",
              "      <td>0</td>\n",
              "      <td>0</td>\n",
              "      <td>0</td>\n",
              "      <td>0</td>\n",
              "    </tr>\n",
              "    <tr>\n",
              "      <th>1</th>\n",
              "      <td>color</td>\n",
              "      <td>195.0</td>\n",
              "      <td>408992272</td>\n",
              "      <td>iron man 3</td>\n",
              "      <td>2013</td>\n",
              "      <td>english</td>\n",
              "      <td>usa</td>\n",
              "      <td>200000000</td>\n",
              "      <td>7.2</td>\n",
              "      <td>robert downey jr.,jon favreau,don cheadle</td>\n",
              "      <td>...</td>\n",
              "      <td>0</td>\n",
              "      <td>0</td>\n",
              "      <td>0</td>\n",
              "      <td>0</td>\n",
              "      <td>0</td>\n",
              "      <td>1</td>\n",
              "      <td>0</td>\n",
              "      <td>0</td>\n",
              "      <td>0</td>\n",
              "      <td>0</td>\n",
              "    </tr>\n",
              "    <tr>\n",
              "      <th>2</th>\n",
              "      <td>color</td>\n",
              "      <td>187.0</td>\n",
              "      <td>54116191</td>\n",
              "      <td>the hateful eight</td>\n",
              "      <td>2015</td>\n",
              "      <td>english</td>\n",
              "      <td>usa</td>\n",
              "      <td>44000000</td>\n",
              "      <td>7.9</td>\n",
              "      <td>craig stark,jennifer jason leigh,zoë bell</td>\n",
              "      <td>...</td>\n",
              "      <td>0</td>\n",
              "      <td>0</td>\n",
              "      <td>0</td>\n",
              "      <td>1</td>\n",
              "      <td>0</td>\n",
              "      <td>0</td>\n",
              "      <td>0</td>\n",
              "      <td>1</td>\n",
              "      <td>0</td>\n",
              "      <td>1</td>\n",
              "    </tr>\n",
              "    <tr>\n",
              "      <th>3</th>\n",
              "      <td>color</td>\n",
              "      <td>186.0</td>\n",
              "      <td>46495</td>\n",
              "      <td>margaret</td>\n",
              "      <td>2011</td>\n",
              "      <td>english</td>\n",
              "      <td>usa</td>\n",
              "      <td>14000000</td>\n",
              "      <td>6.5</td>\n",
              "      <td>matt damon,kieran culkin,john gallagher jr.</td>\n",
              "      <td>...</td>\n",
              "      <td>0</td>\n",
              "      <td>0</td>\n",
              "      <td>0</td>\n",
              "      <td>0</td>\n",
              "      <td>0</td>\n",
              "      <td>0</td>\n",
              "      <td>0</td>\n",
              "      <td>0</td>\n",
              "      <td>0</td>\n",
              "      <td>0</td>\n",
              "    </tr>\n",
              "    <tr>\n",
              "      <th>4</th>\n",
              "      <td>color</td>\n",
              "      <td>186.0</td>\n",
              "      <td>258355354</td>\n",
              "      <td>the hobbit: the desolation of smaug</td>\n",
              "      <td>2013</td>\n",
              "      <td>english</td>\n",
              "      <td>usa</td>\n",
              "      <td>225000000</td>\n",
              "      <td>7.9</td>\n",
              "      <td>aidan turner,adam brown,james nesbitt</td>\n",
              "      <td>...</td>\n",
              "      <td>0</td>\n",
              "      <td>0</td>\n",
              "      <td>0</td>\n",
              "      <td>0</td>\n",
              "      <td>0</td>\n",
              "      <td>0</td>\n",
              "      <td>0</td>\n",
              "      <td>0</td>\n",
              "      <td>0</td>\n",
              "      <td>0</td>\n",
              "    </tr>\n",
              "  </tbody>\n",
              "</table>\n",
              "<p>5 rows × 28 columns</p>\n",
              "</div>\n",
              "    <div class=\"colab-df-buttons\">\n",
              "\n",
              "  <div class=\"colab-df-container\">\n",
              "    <button class=\"colab-df-convert\" onclick=\"convertToInteractive('df-89e93f9b-2466-4ba6-9c6d-68e400fed6d5')\"\n",
              "            title=\"Convert this dataframe to an interactive table.\"\n",
              "            style=\"display:none;\">\n",
              "\n",
              "  <svg xmlns=\"http://www.w3.org/2000/svg\" height=\"24px\" viewBox=\"0 -960 960 960\">\n",
              "    <path d=\"M120-120v-720h720v720H120Zm60-500h600v-160H180v160Zm220 220h160v-160H400v160Zm0 220h160v-160H400v160ZM180-400h160v-160H180v160Zm440 0h160v-160H620v160ZM180-180h160v-160H180v160Zm440 0h160v-160H620v160Z\"/>\n",
              "  </svg>\n",
              "    </button>\n",
              "\n",
              "  <style>\n",
              "    .colab-df-container {\n",
              "      display:flex;\n",
              "      gap: 12px;\n",
              "    }\n",
              "\n",
              "    .colab-df-convert {\n",
              "      background-color: #E8F0FE;\n",
              "      border: none;\n",
              "      border-radius: 50%;\n",
              "      cursor: pointer;\n",
              "      display: none;\n",
              "      fill: #1967D2;\n",
              "      height: 32px;\n",
              "      padding: 0 0 0 0;\n",
              "      width: 32px;\n",
              "    }\n",
              "\n",
              "    .colab-df-convert:hover {\n",
              "      background-color: #E2EBFA;\n",
              "      box-shadow: 0px 1px 2px rgba(60, 64, 67, 0.3), 0px 1px 3px 1px rgba(60, 64, 67, 0.15);\n",
              "      fill: #174EA6;\n",
              "    }\n",
              "\n",
              "    .colab-df-buttons div {\n",
              "      margin-bottom: 4px;\n",
              "    }\n",
              "\n",
              "    [theme=dark] .colab-df-convert {\n",
              "      background-color: #3B4455;\n",
              "      fill: #D2E3FC;\n",
              "    }\n",
              "\n",
              "    [theme=dark] .colab-df-convert:hover {\n",
              "      background-color: #434B5C;\n",
              "      box-shadow: 0px 1px 3px 1px rgba(0, 0, 0, 0.15);\n",
              "      filter: drop-shadow(0px 1px 2px rgba(0, 0, 0, 0.3));\n",
              "      fill: #FFFFFF;\n",
              "    }\n",
              "  </style>\n",
              "\n",
              "    <script>\n",
              "      const buttonEl =\n",
              "        document.querySelector('#df-89e93f9b-2466-4ba6-9c6d-68e400fed6d5 button.colab-df-convert');\n",
              "      buttonEl.style.display =\n",
              "        google.colab.kernel.accessAllowed ? 'block' : 'none';\n",
              "\n",
              "      async function convertToInteractive(key) {\n",
              "        const element = document.querySelector('#df-89e93f9b-2466-4ba6-9c6d-68e400fed6d5');\n",
              "        const dataTable =\n",
              "          await google.colab.kernel.invokeFunction('convertToInteractive',\n",
              "                                                    [key], {});\n",
              "        if (!dataTable) return;\n",
              "\n",
              "        const docLinkHtml = 'Like what you see? Visit the ' +\n",
              "          '<a target=\"_blank\" href=https://colab.research.google.com/notebooks/data_table.ipynb>data table notebook</a>'\n",
              "          + ' to learn more about interactive tables.';\n",
              "        element.innerHTML = '';\n",
              "        dataTable['output_type'] = 'display_data';\n",
              "        await google.colab.output.renderOutput(dataTable, element);\n",
              "        const docLink = document.createElement('div');\n",
              "        docLink.innerHTML = docLinkHtml;\n",
              "        element.appendChild(docLink);\n",
              "      }\n",
              "    </script>\n",
              "  </div>\n",
              "\n",
              "\n",
              "    <div id=\"df-3c44146b-86ef-4858-8c77-6c5095ce8a03\">\n",
              "      <button class=\"colab-df-quickchart\" onclick=\"quickchart('df-3c44146b-86ef-4858-8c77-6c5095ce8a03')\"\n",
              "                title=\"Suggest charts\"\n",
              "                style=\"display:none;\">\n",
              "\n",
              "<svg xmlns=\"http://www.w3.org/2000/svg\" height=\"24px\"viewBox=\"0 0 24 24\"\n",
              "     width=\"24px\">\n",
              "    <g>\n",
              "        <path d=\"M19 3H5c-1.1 0-2 .9-2 2v14c0 1.1.9 2 2 2h14c1.1 0 2-.9 2-2V5c0-1.1-.9-2-2-2zM9 17H7v-7h2v7zm4 0h-2V7h2v10zm4 0h-2v-4h2v4z\"/>\n",
              "    </g>\n",
              "</svg>\n",
              "      </button>\n",
              "\n",
              "<style>\n",
              "  .colab-df-quickchart {\n",
              "      --bg-color: #E8F0FE;\n",
              "      --fill-color: #1967D2;\n",
              "      --hover-bg-color: #E2EBFA;\n",
              "      --hover-fill-color: #174EA6;\n",
              "      --disabled-fill-color: #AAA;\n",
              "      --disabled-bg-color: #DDD;\n",
              "  }\n",
              "\n",
              "  [theme=dark] .colab-df-quickchart {\n",
              "      --bg-color: #3B4455;\n",
              "      --fill-color: #D2E3FC;\n",
              "      --hover-bg-color: #434B5C;\n",
              "      --hover-fill-color: #FFFFFF;\n",
              "      --disabled-bg-color: #3B4455;\n",
              "      --disabled-fill-color: #666;\n",
              "  }\n",
              "\n",
              "  .colab-df-quickchart {\n",
              "    background-color: var(--bg-color);\n",
              "    border: none;\n",
              "    border-radius: 50%;\n",
              "    cursor: pointer;\n",
              "    display: none;\n",
              "    fill: var(--fill-color);\n",
              "    height: 32px;\n",
              "    padding: 0;\n",
              "    width: 32px;\n",
              "  }\n",
              "\n",
              "  .colab-df-quickchart:hover {\n",
              "    background-color: var(--hover-bg-color);\n",
              "    box-shadow: 0 1px 2px rgba(60, 64, 67, 0.3), 0 1px 3px 1px rgba(60, 64, 67, 0.15);\n",
              "    fill: var(--button-hover-fill-color);\n",
              "  }\n",
              "\n",
              "  .colab-df-quickchart-complete:disabled,\n",
              "  .colab-df-quickchart-complete:disabled:hover {\n",
              "    background-color: var(--disabled-bg-color);\n",
              "    fill: var(--disabled-fill-color);\n",
              "    box-shadow: none;\n",
              "  }\n",
              "\n",
              "  .colab-df-spinner {\n",
              "    border: 2px solid var(--fill-color);\n",
              "    border-color: transparent;\n",
              "    border-bottom-color: var(--fill-color);\n",
              "    animation:\n",
              "      spin 1s steps(1) infinite;\n",
              "  }\n",
              "\n",
              "  @keyframes spin {\n",
              "    0% {\n",
              "      border-color: transparent;\n",
              "      border-bottom-color: var(--fill-color);\n",
              "      border-left-color: var(--fill-color);\n",
              "    }\n",
              "    20% {\n",
              "      border-color: transparent;\n",
              "      border-left-color: var(--fill-color);\n",
              "      border-top-color: var(--fill-color);\n",
              "    }\n",
              "    30% {\n",
              "      border-color: transparent;\n",
              "      border-left-color: var(--fill-color);\n",
              "      border-top-color: var(--fill-color);\n",
              "      border-right-color: var(--fill-color);\n",
              "    }\n",
              "    40% {\n",
              "      border-color: transparent;\n",
              "      border-right-color: var(--fill-color);\n",
              "      border-top-color: var(--fill-color);\n",
              "    }\n",
              "    60% {\n",
              "      border-color: transparent;\n",
              "      border-right-color: var(--fill-color);\n",
              "    }\n",
              "    80% {\n",
              "      border-color: transparent;\n",
              "      border-right-color: var(--fill-color);\n",
              "      border-bottom-color: var(--fill-color);\n",
              "    }\n",
              "    90% {\n",
              "      border-color: transparent;\n",
              "      border-bottom-color: var(--fill-color);\n",
              "    }\n",
              "  }\n",
              "</style>\n",
              "\n",
              "      <script>\n",
              "        async function quickchart(key) {\n",
              "          const quickchartButtonEl =\n",
              "            document.querySelector('#' + key + ' button');\n",
              "          quickchartButtonEl.disabled = true;  // To prevent multiple clicks.\n",
              "          quickchartButtonEl.classList.add('colab-df-spinner');\n",
              "          try {\n",
              "            const charts = await google.colab.kernel.invokeFunction(\n",
              "                'suggestCharts', [key], {});\n",
              "          } catch (error) {\n",
              "            console.error('Error during call to suggestCharts:', error);\n",
              "          }\n",
              "          quickchartButtonEl.classList.remove('colab-df-spinner');\n",
              "          quickchartButtonEl.classList.add('colab-df-quickchart-complete');\n",
              "        }\n",
              "        (() => {\n",
              "          let quickchartButtonEl =\n",
              "            document.querySelector('#df-3c44146b-86ef-4858-8c77-6c5095ce8a03 button');\n",
              "          quickchartButtonEl.style.display =\n",
              "            google.colab.kernel.accessAllowed ? 'block' : 'none';\n",
              "        })();\n",
              "      </script>\n",
              "    </div>\n",
              "\n",
              "    </div>\n",
              "  </div>\n"
            ],
            "application/vnd.google.colaboratory.intrinsic+json": {
              "type": "dataframe"
            }
          },
          "metadata": {}
        },
        {
          "output_type": "stream",
          "name": "stdout",
          "text": [
            "Index(['color', 'duration', 'gross', 'movie_title', 'title_year', 'language',\n",
            "       'country', 'budget', 'imdb_score', 'actors', 'movie_facebook_likes',\n",
            "       'Action', 'Adventure', 'Biography', 'Comedy', 'Crime', 'Drama',\n",
            "       'Fantasy', 'History', 'Music', 'Musical', 'Mystery', 'Romance',\n",
            "       'Sci-Fi', 'Sport', 'Thriller', 'War', 'Western'],\n",
            "      dtype='object')\n"
          ]
        }
      ]
    },
    {
      "cell_type": "code",
      "source": [
        "df.to_csv('movie_dataset_cleaned.csv')"
      ],
      "metadata": {
        "id": "aMGS1xBiqjju"
      },
      "execution_count": 30,
      "outputs": []
    },
    {
      "cell_type": "markdown",
      "source": [
        "Melakukan verifikasi hasil"
      ],
      "metadata": {
        "id": "7-bFEAxiq_rz"
      }
    },
    {
      "cell_type": "code",
      "source": [
        "# Check for remaining missing values\n",
        "print(\"\\nMissing values after cleaning and transformation:\")\n",
        "print(df.isnull().sum())"
      ],
      "metadata": {
        "colab": {
          "base_uri": "https://localhost:8080/"
        },
        "id": "LWGEntu0qvz8",
        "outputId": "3b228a51-64ec-4cc3-cb6e-3ed3c9cea287"
      },
      "execution_count": 31,
      "outputs": [
        {
          "output_type": "stream",
          "name": "stdout",
          "text": [
            "\n",
            "Missing values after cleaning and transformation:\n",
            "color                   0\n",
            "duration                0\n",
            "gross                   0\n",
            "movie_title             0\n",
            "title_year              0\n",
            "language                0\n",
            "country                 0\n",
            "budget                  0\n",
            "imdb_score              0\n",
            "actors                  0\n",
            "movie_facebook_likes    0\n",
            "Action                  0\n",
            "Adventure               0\n",
            "Biography               0\n",
            "Comedy                  0\n",
            "Crime                   0\n",
            "Drama                   0\n",
            "Fantasy                 0\n",
            "History                 0\n",
            "Music                   0\n",
            "Musical                 0\n",
            "Mystery                 0\n",
            "Romance                 0\n",
            "Sci-Fi                  0\n",
            "Sport                   0\n",
            "Thriller                0\n",
            "War                     0\n",
            "Western                 0\n",
            "dtype: int64\n"
          ]
        }
      ]
    }
  ]
}